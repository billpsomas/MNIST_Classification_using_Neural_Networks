{
 "cells": [
  {
   "cell_type": "markdown",
   "metadata": {},
   "source": [
    "# MNIST Classification using Neural Networks with Pytorch"
   ]
  },
  {
   "cell_type": "code",
   "execution_count": 1,
   "metadata": {},
   "outputs": [
    {
     "ename": "ModuleNotFoundError",
     "evalue": "No module named 'torchsummary'",
     "output_type": "error",
     "traceback": [
      "\u001b[1;31m---------------------------------------------------------------------------\u001b[0m",
      "\u001b[1;31mModuleNotFoundError\u001b[0m                       Traceback (most recent call last)",
      "\u001b[1;32m<ipython-input-1-87f2a3336e48>\u001b[0m in \u001b[0;36m<module>\u001b[1;34m\u001b[0m\n\u001b[0;32m      5\u001b[0m \u001b[1;32mfrom\u001b[0m \u001b[0mtorch\u001b[0m \u001b[1;32mimport\u001b[0m \u001b[0moptim\u001b[0m\u001b[1;33m,\u001b[0m\u001b[0mnn\u001b[0m\u001b[1;33m\u001b[0m\u001b[1;33m\u001b[0m\u001b[0m\n\u001b[0;32m      6\u001b[0m \u001b[1;32mimport\u001b[0m \u001b[0mtorch\u001b[0m\u001b[1;33m.\u001b[0m\u001b[0mnn\u001b[0m\u001b[1;33m.\u001b[0m\u001b[0mfunctional\u001b[0m \u001b[1;32mas\u001b[0m \u001b[0mF\u001b[0m\u001b[1;33m\u001b[0m\u001b[1;33m\u001b[0m\u001b[0m\n\u001b[1;32m----> 7\u001b[1;33m \u001b[1;32mfrom\u001b[0m \u001b[0mtorchsummary\u001b[0m \u001b[1;32mimport\u001b[0m \u001b[0msummary\u001b[0m\u001b[1;33m\u001b[0m\u001b[1;33m\u001b[0m\u001b[0m\n\u001b[0m\u001b[0;32m      8\u001b[0m \u001b[1;32mimport\u001b[0m \u001b[0mmatplotlib\u001b[0m\u001b[1;33m.\u001b[0m\u001b[0mpyplot\u001b[0m \u001b[1;32mas\u001b[0m \u001b[0mplt\u001b[0m\u001b[1;33m\u001b[0m\u001b[1;33m\u001b[0m\u001b[0m\n\u001b[0;32m      9\u001b[0m \u001b[1;32mimport\u001b[0m \u001b[0mnumpy\u001b[0m \u001b[1;32mas\u001b[0m \u001b[0mnp\u001b[0m\u001b[1;33m\u001b[0m\u001b[1;33m\u001b[0m\u001b[0m\n",
      "\u001b[1;31mModuleNotFoundError\u001b[0m: No module named 'torchsummary'"
     ]
    }
   ],
   "source": [
    "import torch \n",
    "from torchvision import datasets,transforms as T \n",
    "from torch.utils.data.sampler import SubsetRandomSampler\n",
    "from torch.utils.data import DataLoader\n",
    "from torch import optim,nn\n",
    "import torch.nn.functional as F \n",
    "from torchsummary import summary\n",
    "import matplotlib.pyplot as plt \n",
    "import numpy as np \n",
    "from utils import multiclass_accuracy,view_classify"
   ]
  },
  {
   "cell_type": "markdown",
   "metadata": {},
   "source": [
    "## Loading and Visualizing MNIST Dataset "
   ]
  },
  {
   "cell_type": "code",
   "execution_count": 2,
   "metadata": {},
   "outputs": [],
   "source": [
    "transform = T.Compose([\n",
    "    T.ToTensor(),\n",
    "    T.Normalize((0.5),(0.5))\n",
    "])"
   ]
  },
  {
   "cell_type": "code",
   "execution_count": 3,
   "metadata": {},
   "outputs": [],
   "source": [
    "trainset = datasets.MNIST('MNIST_data/',download = True,train = True,transform=transform)\n",
    "testset = datasets.MNIST('MNIST_data/',download=True,train=False,transform=transform)"
   ]
  },
  {
   "cell_type": "code",
   "execution_count": 4,
   "metadata": {},
   "outputs": [
    {
     "name": "stdout",
     "output_type": "stream",
     "text": [
      "Length of trainset 60000\n",
      "Length of testset 10000\n"
     ]
    }
   ],
   "source": [
    "print(\"Length of trainset {}\".format(len(trainset)))\n",
    "print(\"Length of testset {}\".format(len(testset)))"
   ]
  },
  {
   "cell_type": "code",
   "execution_count": 5,
   "metadata": {},
   "outputs": [
    {
     "data": {
      "image/png": "[encoded data removed]",
      "text/plain": [
       "<Figure size 432x288 with 1 Axes>"
      ]
     },
     "metadata": {
      "needs_background": "light"
     },
     "output_type": "display_data"
    }
   ],
   "source": [
    "n = 2\n",
    "image,label = trainset[2]\n",
    "plt.imshow(image.numpy().squeeze(),cmap = \"gray\")\n",
    "plt.title(label);"
   ]
  },
  {
   "cell_type": "markdown",
   "metadata": {},
   "source": [
    "## Splitting Dataset and Setting the Train, Validation and Test DataLoaders"
   ]
  },
  {
   "cell_type": "code",
   "execution_count": 6,
   "metadata": {},
   "outputs": [],
   "source": [
    "valid_size = 0.2 \n",
    "\n",
    "num_train = len(trainset)    #60000\n",
    "indices = list(range(num_train))  #[0,1,2,3,.....59999]\n",
    "np.random.shuffle(indices)  #[2,3,40000,3,.....6,10]\n",
    "split = int(np.floor(valid_size*num_train)) #12000\n",
    "train_idx, valid_idx = indices[split:],indices[:split]"
   ]
  },
  {
   "cell_type": "code",
   "execution_count": 7,
   "metadata": {},
   "outputs": [],
   "source": [
    "train_sampler = SubsetRandomSampler(train_idx)\n",
    "valid_sampler = SubsetRandomSampler(valid_idx)"
   ]
  },
  {
   "cell_type": "code",
   "execution_count": 8,
   "metadata": {},
   "outputs": [],
   "source": [
    "trainloader = DataLoader(trainset, batch_size = 64, sampler = train_sampler)\n",
    "testloader = DataLoader(testset, batch_size = 64)\n",
    "validloader = DataLoader(trainset,batch_size=64,sampler=valid_sampler)"
   ]
  },
  {
   "cell_type": "code",
   "execution_count": 9,
   "metadata": {},
   "outputs": [
    {
     "name": "stdout",
     "output_type": "stream",
     "text": [
      "<class 'torch.Tensor'>\n",
      "torch.Size([64, 1, 28, 28])\n",
      "torch.Size([64])\n"
     ]
    }
   ],
   "source": [
    "dataiter = iter(trainloader)\n",
    "images,labels = dataiter.next()\n",
    "\n",
    "print(type(images))\n",
    "print(images.shape)\n",
    "print(labels.shape)"
   ]
  },
  {
   "cell_type": "code",
   "execution_count": 10,
   "metadata": {},
   "outputs": [
    {
     "data": {
      "image/png": "[encoded data removed]",
      "text/plain": [
       "<Figure size 432x288 with 1 Axes>"
      ]
     },
     "metadata": {
      "needs_background": "light"
     },
     "output_type": "display_data"
    }
   ],
   "source": [
    "n = 60\n",
    "plt.imshow(images[n].numpy().squeeze(),cmap='gray')\n",
    "plt.title(labels[n]);"
   ]
  },
  {
   "cell_type": "markdown",
   "metadata": {},
   "source": [
    "## Creating a simple Neural Network "
   ]
  },
  {
   "cell_type": "code",
   "execution_count": 11,
   "metadata": {},
   "outputs": [],
   "source": [
    "class Classifier(nn.Module):\n",
    "\n",
    "    def __init__(self):\n",
    "        super(Classifier,self).__init__()\n",
    "\n",
    "        self.linear1 = nn.Linear(28*28,256)\n",
    "        self.linear2 = nn.Linear(256,128)\n",
    "        self.linear3 = nn.Linear(128,10)\n",
    "        self.dropout = nn.Dropout(0.4)\n",
    "\n",
    "    def forward(self,x):\n",
    "\n",
    "        x = x.view(x.shape[0],-1) #(1,784)\n",
    "\n",
    "        z1 = self.linear1(x)\n",
    "        a1 = self.dropout(F.relu(z1))\n",
    "\n",
    "        z2 = self.linear2(a1)\n",
    "        a2 = self.dropout(F.relu(z2))\n",
    "\n",
    "        z3 = self.linear3(a2)\n",
    "        a3 = self.dropout(F.log_softmax(z3,dim=1))\n",
    "\n",
    "        return a3"
   ]
  },
  {
   "cell_type": "code",
   "execution_count": 12,
   "metadata": {},
   "outputs": [
    {
     "data": {
      "text/plain": [
       "Classifier(\n",
       "  (linear1): Linear(in_features=784, out_features=256, bias=True)\n",
       "  (linear2): Linear(in_features=256, out_features=128, bias=True)\n",
       "  (linear3): Linear(in_features=128, out_features=10, bias=True)\n",
       "  (dropout): Dropout(p=0.4, inplace=False)\n",
       ")"
      ]
     },
     "execution_count": 12,
     "metadata": {},
     "output_type": "execute_result"
    }
   ],
   "source": [
    "model = Classifier()\n",
    "model"
   ]
  },
  {
   "cell_type": "code",
   "execution_count": 13,
   "metadata": {},
   "outputs": [
    {
     "name": "stdout",
     "output_type": "stream",
     "text": [
      "----------------------------------------------------------------\n",
      "        Layer (type)               Output Shape         Param #\n",
      "================================================================\n",
      "            Linear-1                  [-1, 256]         200,960\n",
      "           Dropout-2                  [-1, 256]               0\n",
      "            Linear-3                  [-1, 128]          32,896\n",
      "           Dropout-4                  [-1, 128]               0\n",
      "            Linear-5                   [-1, 10]           1,290\n",
      "           Dropout-6                   [-1, 10]               0\n",
      "================================================================\n",
      "Total params: 235,146\n",
      "Trainable params: 235,146\n",
      "Non-trainable params: 0\n",
      "----------------------------------------------------------------\n",
      "Input size (MB): 0.00\n",
      "Forward/backward pass size (MB): 0.01\n",
      "Params size (MB): 0.90\n",
      "Estimated Total Size (MB): 0.91\n",
      "----------------------------------------------------------------\n"
     ]
    }
   ],
   "source": [
    "summary(model,input_size=(1,28,28))"
   ]
  },
  {
   "cell_type": "markdown",
   "metadata": {},
   "source": [
    "## Training the Neural Network"
   ]
  },
  {
   "cell_type": "code",
   "execution_count": 14,
   "metadata": {},
   "outputs": [],
   "source": [
    "criterion = nn.NLLLoss()\n",
    "optimizer = optim.Adam(model.parameters(), lr = 0.003)\n",
    "epochs = 10"
   ]
  },
  {
   "cell_type": "code",
   "execution_count": 15,
   "metadata": {},
   "outputs": [
    {
     "name": "stdout",
     "output_type": "stream",
     "text": [
      "Epoch : 1 Training Loss : 0.7323 Validation Loss: 0.3478 Validation acc : 0.8950\n",
      "Epoch : 2 Training Loss : 0.5455 Validation Loss: 0.3094 Validation acc : 0.9122\n",
      "Epoch : 3 Training Loss : 0.4912 Validation Loss: 0.3020 Validation acc : 0.9051\n",
      "Epoch : 4 Training Loss : 0.4779 Validation Loss: 0.3072 Validation acc : 0.9092\n",
      "Epoch : 5 Training Loss : 0.4558 Validation Loss: 0.2805 Validation acc : 0.9160\n",
      "Epoch : 6 Training Loss : 0.4502 Validation Loss: 0.2943 Validation acc : 0.9102\n",
      "Epoch : 7 Training Loss : 0.4261 Validation Loss: 0.2527 Validation acc : 0.9259\n",
      "Epoch : 8 Training Loss : 0.4391 Validation Loss: 0.2425 Validation acc : 0.9297\n",
      "Epoch : 9 Training Loss : 0.4400 Validation Loss: 0.2608 Validation acc : 0.9215\n",
      "Epoch : 10 Training Loss : 0.4190 Validation Loss: 0.2423 Validation acc : 0.9313\n"
     ]
    }
   ],
   "source": [
    "for e in range(epochs):\n",
    "\n",
    "    train_loss = 0.0\n",
    "    valid_loss = 0.0\n",
    "    train_acc = 0.0\n",
    "    valid_acc = 0.0\n",
    "\n",
    "    model.train()\n",
    "\n",
    "    for images,labels in trainloader:\n",
    "\n",
    "        optimizer.zero_grad()\n",
    "        logps = model(images)\n",
    "        loss = criterion(logps,labels)\n",
    "        loss.backward()\n",
    "        optimizer.step()\n",
    "        train_loss += loss.item()\n",
    "\n",
    "    model.eval()\n",
    "\n",
    "    for images,labels in validloader:\n",
    "\n",
    "        logps = model(images)\n",
    "        loss = criterion(logps,labels)\n",
    "        valid_loss += loss.item()\n",
    "        valid_acc += multiclass_accuracy(torch.exp(logps),labels)\n",
    "\n",
    "    train_loss = train_loss/len(trainloader)\n",
    "    valid_loss = valid_loss/len(validloader)\n",
    "    valid_acc = valid_acc/len(validloader)\n",
    "\n",
    "    print(\"Epoch : {} Training Loss : {:.4f} Validation Loss: {:.4f} Validation acc : {:.4f}\".format(e+1,train_loss,valid_loss,valid_acc))"
   ]
  },
  {
   "cell_type": "markdown",
   "metadata": {},
   "source": [
    "## Evaluating the Model"
   ]
  },
  {
   "cell_type": "code",
   "execution_count": 16,
   "metadata": {},
   "outputs": [
    {
     "name": "stdout",
     "output_type": "stream",
     "text": [
      "Test loss : 0.2302 Test accuracy : 0.9341\n"
     ]
    }
   ],
   "source": [
    "model.eval()\n",
    "\n",
    "loss = 0\n",
    "acc = 0\n",
    "for images,labels in testloader:\n",
    "\n",
    "    logps = model(images)\n",
    "    loss += criterion(logps,labels)\n",
    "    ps = torch.exp(logps)\n",
    "    acc += multiclass_accuracy(ps,labels)\n",
    "\n",
    "print(\"Test loss : {:.4f} Test accuracy : {:.4f}\".format(loss/len(testloader),acc/len(testloader)))"
   ]
  },
  {
   "cell_type": "code",
   "execution_count": 17,
   "metadata": {},
   "outputs": [
    {
     "data": {
      "image/png": "[encoded data removed]",
      "text/plain": [
       "<Figure size 432x648 with 2 Axes>"
      ]
     },
     "metadata": {
      "needs_background": "light"
     },
     "output_type": "display_data"
    }
   ],
   "source": [
    "dataiter = iter(testloader)\n",
    "images,labels = dataiter.next()\n",
    "\n",
    "n = 6\n",
    "logps = model(images[n])\n",
    "ps = torch.exp(logps)\n",
    "\n",
    "view_classify(images[n],ps)"
   ]
  }
 ],
 "metadata": {
  "kernelspec": {
   "display_name": "Python 3",
   "language": "python",
   "name": "python3"
  },
  "language_info": {
   "codemirror_mode": {
    "name": "ipython",
    "version": 3
   },
   "file_extension": ".py",
   "mimetype": "text/x-python",
   "name": "python",
   "nbconvert_exporter": "python",
   "pygments_lexer": "ipython3",
   "version": "3.6.8"
  }
 },
 "nbformat": 4,
 "nbformat_minor": 2
}
